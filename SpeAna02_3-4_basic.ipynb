{
 "cells": [
  {
   "cell_type": "markdown",
   "metadata": {},
   "source": [
    "# <span style=\"color:RoyalBlue; \">2.3 Pythonプログラミング入門</span>"
   ]
  },
  {
   "cell_type": "markdown",
   "metadata": {},
   "source": [
    "###### <span style=\"color: gray \">コード2.1　おためしプログラム</span>"
   ]
  },
  {
   "cell_type": "code",
   "execution_count": 1,
   "metadata": {},
   "outputs": [
    {
     "data": {
      "text/plain": [
       "2.0"
      ]
     },
     "execution_count": 1,
     "metadata": {},
     "output_type": "execute_result"
    }
   ],
   "source": [
    "4/2"
   ]
  },
  {
   "cell_type": "markdown",
   "metadata": {},
   "source": [
    "###### <span style=\"color: gray \">コード2.2　四則演算</span>"
   ]
  },
  {
   "cell_type": "code",
   "execution_count": 2,
   "metadata": {
    "scrolled": false
   },
   "outputs": [
    {
     "name": "stdout",
     "output_type": "stream",
     "text": [
      "1.5\n",
      "1\n",
      "2\n",
      "256\n"
     ]
    }
   ],
   "source": [
    "print(3/2) # 割り算\n",
    "print(3//2) # 切り捨て除算\n",
    "print(11%3) # 剰余\n",
    "print(2**8) # べき乗"
   ]
  },
  {
   "cell_type": "markdown",
   "metadata": {},
   "source": [
    "## <span style=\"color: DeepPink; \">2.3.1キーボードショートカットとMarkdown</span>"
   ]
  },
  {
   "cell_type": "markdown",
   "metadata": {},
   "source": [
    "###### <span style=\"color: gray \">コード2.3　Markdown</span>"
   ]
  },
  {
   "cell_type": "markdown",
   "metadata": {},
   "source": [
    "### Jupyter Notebook ショートカットまとめ\n",
    "#### Jupyter Notebook ショートカットまとめ\n",
    "-  <kbd>H</kbd>: ヘルプを表示\n",
    "-  (新バージョンでは） <kbd>Ctrl</kbd>+ <kbd>Shift</kbd>+<kbd>H</kbd>: ヘルプを表示\n",
    "-  <kbd>M</kbd>: Markdownセルに変更\n",
    "- <kbd>Ctrl</kbd>+<kbd>Enter</kbd>: セルの内容を実行\n",
    "- <kbd>Shift</kbd>+<kbd>Enter</kbd>: セルの内容を実行して下へ\n",
    "- <kbd>Ctrl</kbd>+<kbd>/</kbd>: コメントアウト\n",
    "- <kbd>Y</kbd>: Codeセルに変更\n",
    "-  <kbd>A</kbd>: ひとつ上に空のセルを挿入\n",
    "-  <kbd>B</kbd>: ひとつ下に空のセルを挿入\n",
    "- <kbd>D</kbd><kbd>D</kbd>: セルの削除"
   ]
  },
  {
   "cell_type": "markdown",
   "metadata": {},
   "source": [
    "#### Markdownの書式については下記URLを参照してください\n",
    "[Markdown書式チート](https://qiita.com/kamorits/items/6f342da395ad57468ae3)"
   ]
  },
  {
   "cell_type": "markdown",
   "metadata": {},
   "source": [
    "## <span style=\"color: DeepPink; \">2.3.2 変数の取り扱い</span>"
   ]
  },
  {
   "cell_type": "markdown",
   "metadata": {},
   "source": [
    "###### <span style=\"color: gray \">コード2.4　変数の取り扱い</span>"
   ]
  },
  {
   "cell_type": "code",
   "execution_count": 3,
   "metadata": {
    "scrolled": true
   },
   "outputs": [
    {
     "name": "stdout",
     "output_type": "stream",
     "text": [
      "円の面積は 314.0 です\n"
     ]
    }
   ],
   "source": [
    "a=10\n",
    "b=5\n",
    "S=a**2*3.14\n",
    "print('円の面積は',S,'です')"
   ]
  },
  {
   "cell_type": "markdown",
   "metadata": {},
   "source": [
    "## <span style=\"color: DeepPink; \">2.3.3 リスト</span>"
   ]
  },
  {
   "cell_type": "markdown",
   "metadata": {},
   "source": [
    "###### <span style=\"color: gray \">コード2.5　リスト</span>"
   ]
  },
  {
   "cell_type": "code",
   "execution_count": 4,
   "metadata": {},
   "outputs": [
    {
     "name": "stdout",
     "output_type": "stream",
     "text": [
      "[1, 2, 3, 4, 5]\n"
     ]
    }
   ],
   "source": [
    "number=[1,2,3,4,5] # リスト\n",
    "print(number)"
   ]
  },
  {
   "cell_type": "markdown",
   "metadata": {},
   "source": [
    "###### <span style=\"color: gray \">コード2.6　データ型</span>"
   ]
  },
  {
   "cell_type": "code",
   "execution_count": 5,
   "metadata": {},
   "outputs": [
    {
     "name": "stdout",
     "output_type": "stream",
     "text": [
      "文字です\n",
      "変数のデータ型は <class 'str'> です\n"
     ]
    }
   ],
   "source": [
    "# 整数 = int型\n",
    "# 浮動小数点数 = float型\n",
    "# 文字列 = str型\n",
    "# 論理値（True[1], False[0]）= bool型\n",
    "\n",
    "A=\"文字です\"\n",
    "print(A)\n",
    "print(\"変数のデータ型は\",type(A),\"です\")"
   ]
  },
  {
   "cell_type": "markdown",
   "metadata": {},
   "source": [
    "###### <span style=\"color: gray \">コード2.7　リストの操作</span>"
   ]
  },
  {
   "cell_type": "code",
   "execution_count": 6,
   "metadata": {},
   "outputs": [
    {
     "name": "stdout",
     "output_type": "stream",
     "text": [
      "リストの中身は ['身長', 175, '体重', 60]\n",
      "リストの長さは 4\n",
      "リストの最初の要素は 身長\n",
      "リストの最初の要素は 体重\n",
      "リストの中身は ['身長', 175, '体重', 45]\n"
     ]
    }
   ],
   "source": [
    "data=['身長',175,'体重',60] \n",
    "print('リストの中身は', data) # ①\n",
    "print('リストの長さは',len(data)) # ②\n",
    "print('リストの最初の要素は',data[0]) # ③リストの最初の要素　pythonでは0から指定する\n",
    "print('リストの最初の要素は',data[2]) # ④\n",
    "data[3]=45 # ⑤\n",
    "print('リストの中身は',data) # ⑥"
   ]
  },
  {
   "cell_type": "markdown",
   "metadata": {},
   "source": [
    "## <span style=\"color: DeepPink; \">2.3.4 タプル</span>"
   ]
  },
  {
   "cell_type": "markdown",
   "metadata": {},
   "source": [
    "###### <span style=\"color: gray \">コード2.8　タプル</span>"
   ]
  },
  {
   "cell_type": "code",
   "execution_count": 7,
   "metadata": {},
   "outputs": [
    {
     "name": "stdout",
     "output_type": "stream",
     "text": [
      "タプルの中身は ('身長', 175, '体重', 60)\n",
      "タプルの長さは 4\n",
      "タプルの最初の要素は 身長\n",
      "タプルの3番目の要素は 体重\n"
     ]
    },
    {
     "ename": "TypeError",
     "evalue": "'tuple' object does not support item assignment",
     "output_type": "error",
     "traceback": [
      "\u001b[1;31m---------------------------------------------------------------------------\u001b[0m",
      "\u001b[1;31mTypeError\u001b[0m                                 Traceback (most recent call last)",
      "Cell \u001b[1;32mIn[7], line 7\u001b[0m\n\u001b[0;32m      5\u001b[0m \u001b[38;5;28mprint\u001b[39m(\u001b[38;5;124m\"\u001b[39m\u001b[38;5;124mタプルの最初の要素は\u001b[39m\u001b[38;5;124m\"\u001b[39m, data[\u001b[38;5;241m0\u001b[39m])  \u001b[38;5;66;03m# インデックスで要素をアクセス\u001b[39;00m\n\u001b[0;32m      6\u001b[0m \u001b[38;5;28mprint\u001b[39m(\u001b[38;5;124m\"\u001b[39m\u001b[38;5;124mタプルの3番目の要素は\u001b[39m\u001b[38;5;124m\"\u001b[39m, data[\u001b[38;5;241m2\u001b[39m])  \u001b[38;5;66;03m# インデックスで要素をアクセス\u001b[39;00m\n\u001b[1;32m----> 7\u001b[0m data[\u001b[38;5;241m3\u001b[39m] \u001b[38;5;241m=\u001b[39m \u001b[38;5;241m45\u001b[39m\n",
      "\u001b[1;31mTypeError\u001b[0m: 'tuple' object does not support item assignment"
     ]
    }
   ],
   "source": [
    "# タプルの定義\n",
    "data = (\"身長\", 175, \"体重\", 60)\n",
    "print(\"タプルの中身は\", data)  # タプルの中身を表示\n",
    "print(\"タプルの長さは\", len(data))  # タプルの長さを表示\n",
    "print(\"タプルの最初の要素は\", data[0])  # インデックスで要素にアクセス\n",
    "print(\"タプルの3番目の要素は\", data[2])  # インデックスで要素にアクセス\n",
    "data[3] = 45  # # タプルはイミュータブルなので値を変更しようとするとエラー"
   ]
  },
  {
   "cell_type": "markdown",
   "metadata": {},
   "source": [
    "## <span style=\"color: DeepPink; \">2.3.5 bool型</span>"
   ]
  },
  {
   "cell_type": "markdown",
   "metadata": {},
   "source": [
    "###### <span style=\"color: gray \">コード2.9　bool型と条件式</span>"
   ]
  },
  {
   "cell_type": "code",
   "execution_count": 8,
   "metadata": {},
   "outputs": [
    {
     "name": "stdout",
     "output_type": "stream",
     "text": [
      "Bool_integerの値は 100\n",
      "bool_integerは50以上ですか？→ True\n",
      "bool_integerは200以上ですか？→ False\n"
     ]
    }
   ],
   "source": [
    "# bool型（True or False）\n",
    "bool_integer=100\n",
    "bool_50=bool_integer>=50\n",
    "bool_200=bool_integer>=200\n",
    "print('Bool_integerの値は',bool_integer)\n",
    "print('bool_integerは50以上ですか？→',bool_50)\n",
    "print('bool_integerは200以上ですか？→',bool_200)"
   ]
  },
  {
   "cell_type": "markdown",
   "metadata": {},
   "source": [
    "###### <span style=\"color: gray \">コード2.10　bool型の比較演算</span>"
   ]
  },
  {
   "cell_type": "code",
   "execution_count": 9,
   "metadata": {},
   "outputs": [
    {
     "name": "stdout",
     "output_type": "stream",
     "text": [
      "True\n",
      "False\n",
      "True\n",
      "False\n",
      "True\n",
      "True\n"
     ]
    }
   ],
   "source": [
    "a=100\n",
    "print(a==100) # 等しい\n",
    "print(a != 100) # 等しくない\n",
    "print(a>80) # 大なり\n",
    "print(a<80) # 小なり　　\n",
    "print(a >= 100) # 以上\n",
    "print(a <= 100) # 以下"
   ]
  },
  {
   "cell_type": "markdown",
   "metadata": {},
   "source": [
    "## <span style=\"color: DeepPink; \">2.3.6 if文</span>"
   ]
  },
  {
   "cell_type": "markdown",
   "metadata": {},
   "source": [
    "###### <span style=\"color: gray \">コード2.11　if文</span>"
   ]
  },
  {
   "cell_type": "code",
   "execution_count": 10,
   "metadata": {},
   "outputs": [
    {
     "name": "stdout",
     "output_type": "stream",
     "text": [
      "お祭りで何か買えます\n",
      "焼きそばが買えます\n"
     ]
    }
   ],
   "source": [
    "Ymoney=1000\n",
    "# Ymoney=450\n",
    "# Ymoney=100\n",
    "if(Ymoney>=200):\n",
    "    print('お祭りで何か買えます')\n",
    "if(Ymoney>=500):\n",
    "    print('焼きそばが買えます')\n",
    "elif(200<=Ymoney<500):\n",
    "        print('りんご飴が買えます')\n",
    "else:\n",
    "    print('何も買えません')"
   ]
  },
  {
   "cell_type": "markdown",
   "metadata": {},
   "source": [
    "###### <span style=\"color: gray \">コード2.12　インデント</span>"
   ]
  },
  {
   "cell_type": "markdown",
   "metadata": {},
   "source": [
    "if (条件):<BR>\n",
    "<font color=\"Red\">インデント→</font>実行文<BR>\n",
    "elif(条件):<BR>\n",
    "   <font color=\"Red\">インデント→</font> 実行文<BR>\n",
    "else:<BR>\n",
    "    <font color=\"Red\">インデント→</font>実行文<BR>"
   ]
  },
  {
   "cell_type": "markdown",
   "metadata": {},
   "source": [
    "## <span style=\"color: DeepPink; \">2.3.7 for文</span>"
   ]
  },
  {
   "cell_type": "markdown",
   "metadata": {},
   "source": [
    "###### <span style=\"color: gray \">コード2.13　for文の構造</span>"
   ]
  },
  {
   "cell_type": "markdown",
   "metadata": {},
   "source": [
    "for 変数 in オブジェクト：<BR>\n",
    "<font color=\"Red\">インデント→</font>実行文<BR>"
   ]
  },
  {
   "cell_type": "markdown",
   "metadata": {},
   "source": [
    "###### <span style=\"color: gray \">コード2.14　for文の具体例</span>"
   ]
  },
  {
   "cell_type": "code",
   "execution_count": 11,
   "metadata": {},
   "outputs": [
    {
     "name": "stdout",
     "output_type": "stream",
     "text": [
      "0\n",
      "1\n",
      "2\n"
     ]
    }
   ],
   "source": [
    "for i in [0,1,2]:\n",
    "    print(i)"
   ]
  },
  {
   "cell_type": "markdown",
   "metadata": {},
   "source": [
    "###### <span style=\"color: gray \">コード2.15　range関数</span>"
   ]
  },
  {
   "cell_type": "code",
   "execution_count": 12,
   "metadata": {},
   "outputs": [
    {
     "name": "stdout",
     "output_type": "stream",
     "text": [
      "range(0, 5)\n",
      "0\n",
      "1\n",
      "2\n",
      "3\n",
      "4\n"
     ]
    }
   ],
   "source": [
    "A = range(5)\n",
    "print(A)\n",
    "for i in range(5):\n",
    "    print(i)"
   ]
  },
  {
   "cell_type": "markdown",
   "metadata": {},
   "source": [
    "###### <span style=\"color: gray \">コード2.16　for文と変数</span>"
   ]
  },
  {
   "cell_type": "code",
   "execution_count": 13,
   "metadata": {},
   "outputs": [
    {
     "name": "stdout",
     "output_type": "stream",
     "text": [
      "python\n",
      "による\n",
      "スペクトル解析\n"
     ]
    }
   ],
   "source": [
    "words=[\"python\",\"による\",\"スペクトル解析\"]\n",
    "for w in words:\n",
    "    print(w)"
   ]
  },
  {
   "cell_type": "markdown",
   "metadata": {},
   "source": [
    "## <span style=\"color: DeepPink; \">2.3.8 関数の定義</span>"
   ]
  },
  {
   "cell_type": "markdown",
   "metadata": {},
   "source": [
    "###### <span style=\"color: gray \">コード2.17　defキーワードを使用した関数定義の構造</span>"
   ]
  },
  {
   "cell_type": "markdown",
   "metadata": {},
   "source": [
    "def 関数名(引数):<BR>\n",
    "   <font color=\"Red\">インデント→</font> 実行文<BR>\n",
    "   <font color=\"Red\">インデント→</font> return 戻り値"
   ]
  },
  {
   "cell_type": "markdown",
   "metadata": {},
   "source": [
    "###### <span style=\"color: gray \">コード2.18　引数と戻り値をもたない関数</span>"
   ]
  },
  {
   "cell_type": "code",
   "execution_count": 14,
   "metadata": {},
   "outputs": [
    {
     "name": "stdout",
     "output_type": "stream",
     "text": [
      "hello to chemometorics\n",
      "for the spectral analysis\n"
     ]
    }
   ],
   "source": [
    "def hello():\n",
    "    print('hello to chemometorics')\n",
    "    print('for the spectral analysis')\n",
    "hello()"
   ]
  },
  {
   "cell_type": "markdown",
   "metadata": {},
   "source": [
    "###### <span style=\"color: gray \">コード2.19　引数をもつ関数</span>"
   ]
  },
  {
   "cell_type": "code",
   "execution_count": 15,
   "metadata": {},
   "outputs": [
    {
     "name": "stdout",
     "output_type": "stream",
     "text": [
      "sakaiさん、ケモメトリクス解析へようこそ\n",
      "katoさん、スペクトルが自由に解析できますよ\n"
     ]
    }
   ],
   "source": [
    "def show_hello_to(name1,name2):\n",
    "    print(name1+'さん、ケモメトリクス解析へようこそ')\n",
    "    print(name2+'さん、スペクトルが自由に解析できますよ')\n",
    "show_hello_to('sakai','kato')"
   ]
  },
  {
   "cell_type": "markdown",
   "metadata": {},
   "source": [
    "###### <span style=\"color: gray \">コード2.20　引数と戻り値をもつ関数</span>"
   ]
  },
  {
   "cell_type": "code",
   "execution_count": 16,
   "metadata": {},
   "outputs": [
    {
     "name": "stdout",
     "output_type": "stream",
     "text": [
      "30 40 50\n"
     ]
    }
   ],
   "source": [
    "def simple_tashizan(a,b,c):\n",
    "    p1=a+b\n",
    "    p2=a+c\n",
    "    p3=b+c\n",
    "    return p1,p2,p3\n",
    "\n",
    "d1,d2,d3=simple_tashizan(10,20,30)\n",
    "print(d1,d2,d3)"
   ]
  },
  {
   "cell_type": "markdown",
   "metadata": {},
   "source": [
    "# <span style=\"color:RoyalBlue; \">2.4 ライブラリ</span>"
   ]
  },
  {
   "cell_type": "markdown",
   "metadata": {},
   "source": [
    "## <span style=\"color: DeepPink; \">2.4.2 ライブラリのインストールとインポート</span>"
   ]
  },
  {
   "cell_type": "markdown",
   "metadata": {},
   "source": [
    "###### <span style=\"color: gray \">コード2.21　ライブラリのインポート方法①</span>"
   ]
  },
  {
   "cell_type": "code",
   "execution_count": 17,
   "metadata": {},
   "outputs": [],
   "source": [
    "import numpy"
   ]
  },
  {
   "cell_type": "markdown",
   "metadata": {},
   "source": [
    "###### <span style=\"color: gray \">コード2.22　ライブラリのインポート方法②</span>"
   ]
  },
  {
   "cell_type": "code",
   "execution_count": 18,
   "metadata": {},
   "outputs": [],
   "source": [
    "from numpy import array"
   ]
  },
  {
   "cell_type": "markdown",
   "metadata": {},
   "source": [
    "###### <span style=\"color: gray \">コード2.23　ライブラリのインポート方法③</span>"
   ]
  },
  {
   "cell_type": "code",
   "execution_count": 19,
   "metadata": {},
   "outputs": [],
   "source": [
    "import numpy as np\n",
    "a = np.array([1, 2, 3])"
   ]
  },
  {
   "cell_type": "markdown",
   "metadata": {},
   "source": [
    "###### <span style=\"color: gray \">コード2.24　asキーワードの慣例</span>"
   ]
  },
  {
   "cell_type": "code",
   "execution_count": 20,
   "metadata": {},
   "outputs": [],
   "source": [
    "import pandas as pd\n",
    "import matplotlib.pyplot as plt"
   ]
  },
  {
   "cell_type": "markdown",
   "metadata": {},
   "source": [
    "## <span style=\"color: DeepPink; \">2.4.4 ライブラリの利用方法</span>"
   ]
  },
  {
   "cell_type": "markdown",
   "metadata": {},
   "source": [
    "###### <span style=\"color: gray \">コード2.24　メソッド</span>"
   ]
  },
  {
   "cell_type": "code",
   "execution_count": 21,
   "metadata": {},
   "outputs": [
    {
     "name": "stdout",
     "output_type": "stream",
     "text": [
      "[1 2 3 4 5 6]\n",
      "[[1 2 3]\n",
      " [4 5 6]]\n"
     ]
    }
   ],
   "source": [
    "import numpy as np\n",
    "array = np.array([1, 2, 3, 4, 5, 6]) # ① 1次元配列を作成\n",
    "print(array)\n",
    "reshaped_array = array.reshape((2, 3)) # ② reshapeメソッドを使用して配列の形状を変更\n",
    "print(reshaped_array)"
   ]
  },
  {
   "cell_type": "markdown",
   "metadata": {},
   "source": [
    "###### <span style=\"color: gray \">コード2.25　アトリビュート</span>"
   ]
  },
  {
   "cell_type": "code",
   "execution_count": 22,
   "metadata": {},
   "outputs": [
    {
     "name": "stdout",
     "output_type": "stream",
     "text": [
      "(3,)\n",
      "int32\n"
     ]
    }
   ],
   "source": [
    "import numpy as np\n",
    "array = np.array([1, 2, 3])\n",
    "print(array.shape) # (3,) - 3要素の1次元配列\n",
    "print(array.dtype) # float64 - 各要素のデータ型は64ビット浮動小数点数"
   ]
  }
 ],
 "metadata": {
  "kernelspec": {
   "display_name": "Python 3 (ipykernel)",
   "language": "python",
   "name": "python3"
  },
  "language_info": {
   "codemirror_mode": {
    "name": "ipython",
    "version": 3
   },
   "file_extension": ".py",
   "mimetype": "text/x-python",
   "name": "python",
   "nbconvert_exporter": "python",
   "pygments_lexer": "ipython3",
   "version": "3.11.7"
  }
 },
 "nbformat": 4,
 "nbformat_minor": 2
}
